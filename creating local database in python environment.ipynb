{
 "cells": [
  {
   "cell_type": "code",
   "execution_count": 3,
   "id": "220cd601",
   "metadata": {},
   "outputs": [],
   "source": [
    "import requests\n",
    "import pandas as pd\n",
    "from io import StringIO\n",
    "import csv\n",
    "from tqdm import tqdm_notebook as tqdm\n",
    "import sqlite3\n"
   ]
  },
  {
   "cell_type": "code",
   "execution_count": 4,
   "id": "41fde7be",
   "metadata": {},
   "outputs": [
    {
     "name": "stdout",
     "output_type": "stream",
     "text": [
      "Getting: AMZN\n",
      "Getting: TSLA\n",
      "Getting: AAPL\n"
     ]
    }
   ],
   "source": [
    "#grabbing finance data from yahoo finance for use:\n",
    "\n",
    "company_list = ['AMZN', 'TSLA', 'AAPL']\n",
    "stockdata = []\n",
    "def getData(company_stock):\n",
    "    url = f'https://query1.finance.yahoo.com/v7/finance/download/{company_stock}?'\n",
    "    params = {\n",
    "           'range': '1y',\n",
    "           'interval':'1mo',\n",
    "           'events':'history',\n",
    "           'includeAdjustedClose':'true'}\n",
    "    url_info = requests.get(url,params = params, headers= {\"User-Agent\": \"Mozilla/5.0 (Windows NT 10.0; Win64; x64)\"})\n",
    "    #print(url_info.text)\n",
    "    file = StringIO(url_info.text)\n",
    "    reader = csv.reader(file)\n",
    "    data = list(reader)\n",
    "    #print(data)\n",
    "\n",
    "    data_frame = pd.DataFrame(data[1:], columns = ['Date', 'Open', 'High', 'Low', 'Close', 'Adj Close', 'Volume'])\n",
    "    data_frame.insert(1, 'Company Name', f'{company_stock}')\n",
    "    return pd.DataFrame(data_frame)\n",
    "    \n",
    "for company in company_list:\n",
    "    stockdata.append(getData(company))\n",
    "    print(f'Getting: {company}')\n"
   ]
  },
  {
   "cell_type": "code",
   "execution_count": 5,
   "id": "2cfd7543",
   "metadata": {},
   "outputs": [
    {
     "name": "stdout",
     "output_type": "stream",
     "text": [
      "          Date Company Name        Open        High         Low       Close  \\\n",
      "0   2022-02-01         AMZN  150.000000  163.834503  138.332993  153.563004   \n",
      "1   2022-03-01         AMZN  152.732498  170.831497  133.572495  162.997498   \n",
      "2   2022-04-01         AMZN  164.149506  168.394501  121.625000  124.281502   \n",
      "3   2022-05-01         AMZN  122.401001  126.220497  101.260002  120.209503   \n",
      "4   2022-06-01         AMZN  122.255997  128.990005  101.430000  106.209999   \n",
      "5   2022-07-01         AMZN  106.290001  137.649994  105.849998  134.949997   \n",
      "6   2022-08-01         AMZN  134.960007  146.570007  126.739998  126.769997   \n",
      "7   2022-09-01         AMZN  126.000000  136.490005  112.059998  113.000000   \n",
      "8   2022-10-01         AMZN  113.580002  123.000000   97.660004  102.440002   \n",
      "9   2022-11-01         AMZN  103.989998  104.580002   85.870003   96.540001   \n",
      "10  2022-12-01         AMZN   96.989998   97.230003   81.690002   84.000000   \n",
      "11  2023-01-01         AMZN   85.459999   98.370003   81.430000   98.120003   \n",
      "12  2023-01-13         AMZN   94.180000   98.370003   94.150002   98.120003   \n",
      "0   2022-02-01         TSLA  311.736664  315.923340  233.333328  290.143341   \n",
      "1   2022-03-01         TSLA  289.893341  371.589996  252.013336  359.200012   \n",
      "2   2022-04-01         TSLA  360.383331  384.290009  273.899994  290.253326   \n",
      "3   2022-05-01         TSLA  286.923340  318.500000  206.856674  252.753326   \n",
      "4   2022-06-01         TSLA  251.720001  264.209991  208.693329  224.473328   \n",
      "5   2022-07-01         TSLA  227.000000  298.320007  216.166672  297.149994   \n",
      "6   2022-08-01         TSLA  301.276672  314.666656  271.809998  275.609985   \n",
      "7   2022-09-01         TSLA  272.579987  313.799988  262.470001  265.250000   \n",
      "8   2022-10-01         TSLA  254.500000  257.500000  198.589996  227.539993   \n",
      "9   2022-11-01         TSLA  234.050003  237.399994  166.190002  194.699997   \n",
      "10  2022-12-01         TSLA  197.080002  198.919998  108.239998  123.180000   \n",
      "11  2023-01-01         TSLA  118.470001  125.949997  101.809998  122.400002   \n",
      "12  2023-01-13         TSLA  116.550003  122.629997  115.599998  122.400002   \n",
      "0   2022-02-01         AAPL  174.009995  176.649994  152.000000  165.119995   \n",
      "1   2022-03-01         AAPL  164.699997  179.610001  150.100006  174.610001   \n",
      "2   2022-04-01         AAPL  174.029999  178.490005  155.380005  157.649994   \n",
      "3   2022-05-01         AAPL  156.710007  166.479996  132.610001  148.839996   \n",
      "4   2022-06-01         AAPL  149.899994  151.740005  129.039993  136.720001   \n",
      "5   2022-07-01         AAPL  136.039993  163.630005  135.660004  162.509995   \n",
      "6   2022-08-01         AAPL  161.009995  176.149994  157.139999  157.220001   \n",
      "7   2022-09-01         AAPL  156.639999  164.259995  138.000000  138.199997   \n",
      "8   2022-10-01         AAPL  138.210007  157.500000  134.369995  153.339996   \n",
      "9   2022-11-01         AAPL  155.080002  155.449997  134.380005  148.029999   \n",
      "10  2022-12-01         AAPL  148.210007  150.919998  125.870003  129.929993   \n",
      "11  2023-01-01         AAPL  130.279999  134.919998  124.169998  134.759995   \n",
      "12  2023-01-13         AAPL  132.029999  134.919998  131.660004  134.759995   \n",
      "\n",
      "     Adj Close      Volume  \n",
      "0   153.563004  1689604000  \n",
      "1   162.997498  1628486000  \n",
      "2   124.281502  1465008000  \n",
      "3   120.209503  2258476000  \n",
      "4   106.209999  1767601100  \n",
      "5   134.949997  1337852600  \n",
      "6   126.769997  1170449000  \n",
      "7   113.000000  1210487600  \n",
      "8   102.440002  1459311500  \n",
      "9    96.540001  2035133200  \n",
      "10   84.000000  1549122100  \n",
      "11   98.120003   703558300  \n",
      "12   98.120003    85282448  \n",
      "0   290.143341  1391126700  \n",
      "1   359.200012  1729272900  \n",
      "2   290.253326  1520959800  \n",
      "3   252.753326  1948221600  \n",
      "4   224.473328  2011227900  \n",
      "5   297.149994  1744884000  \n",
      "6   275.609985  1695263200  \n",
      "7   265.250000  1299271000  \n",
      "8   227.539993  1735263100  \n",
      "9   194.699997  1885275300  \n",
      "10  123.180000  2943774900  \n",
      "11  122.400002  1681931500  \n",
      "12  122.400002   180714119  \n",
      "0   164.167206  1627516300  \n",
      "1   173.823639  2180800100  \n",
      "2   156.939987  1687795600  \n",
      "3   148.169693  2401040300  \n",
      "4   136.304245  1749099800  \n",
      "5   162.015808  1447125400  \n",
      "6   156.741898  1510239600  \n",
      "7   137.971115  2084722800  \n",
      "8   153.086044  1868139700  \n",
      "9   147.784851  1724847700  \n",
      "10  129.929993  1675657600  \n",
      "11  134.759995   703163900  \n",
      "12  134.759995    57809719  \n"
     ]
    }
   ],
   "source": [
    "combined_list = pd.concat(stockdata)\n",
    "print(combined_list)\n"
   ]
  },
  {
   "cell_type": "code",
   "execution_count": 6,
   "id": "06ee601b",
   "metadata": {},
   "outputs": [],
   "source": [
    "#Using SQLite3: \n",
    "connection = sqlite3.connect('practice_finance.sqlite3') #Creating local database file\n",
    "cursor = connection.cursor()\n",
    "cursor.execute('Drop Table if exists stock_data')\n",
    "#Creating table:\n",
    "tables_1 = 'Create Table stock_data (id integer, date datetime, company_name varchar(100) , open integer, high integer, low integer, close integer, adj_close integer, volume integer)'  \n",
    "cursor.execute(tables_1)\n",
    "\n",
    "connection.commit()"
   ]
  },
  {
   "cell_type": "code",
   "execution_count": 7,
   "id": "364b6c9e",
   "metadata": {},
   "outputs": [],
   "source": [
    "#inserting information:\n",
    "insert_amazon = 'Insert into stock_data (id, date, company_name, open, high, low, close, adj_close, volume) values (?, ?, ?, ?, ?, ?, ?, ?, ?)'\n",
    "cursor = connection.cursor()\n",
    "for info in combined_list.itertuples():\n",
    "    cursor.execute(insert_amazon, info)\n",
    "connection.commit()\n"
   ]
  },
  {
   "cell_type": "code",
   "execution_count": 8,
   "id": "6b0aef87",
   "metadata": {},
   "outputs": [
    {
     "name": "stdout",
     "output_type": "stream",
     "text": [
      "(0, '2022-02-01', 'AMZN', 150, 163.834503, 138.332993, 153.563004, 153.563004, 1689604000)\n",
      "(1, '2022-03-01', 'AMZN', 152.732498, 170.831497, 133.572495, 162.997498, 162.997498, 1628486000)\n",
      "(2, '2022-04-01', 'AMZN', 164.149506, 168.394501, 121.625, 124.281502, 124.281502, 1465008000)\n",
      "(3, '2022-05-01', 'AMZN', 122.401001, 126.220497, 101.260002, 120.209503, 120.209503, 2258476000)\n",
      "(4, '2022-06-01', 'AMZN', 122.255997, 128.990005, 101.43, 106.209999, 106.209999, 1767601100)\n",
      "(5, '2022-07-01', 'AMZN', 106.290001, 137.649994, 105.849998, 134.949997, 134.949997, 1337852600)\n",
      "(6, '2022-08-01', 'AMZN', 134.960007, 146.570007, 126.739998, 126.769997, 126.769997, 1170449000)\n",
      "(7, '2022-09-01', 'AMZN', 126, 136.490005, 112.059998, 113, 113, 1210487600)\n",
      "(8, '2022-10-01', 'AMZN', 113.580002, 123, 97.660004, 102.440002, 102.440002, 1459311500)\n",
      "(9, '2022-11-01', 'AMZN', 103.989998, 104.580002, 85.870003, 96.540001, 96.540001, 2035133200)\n",
      "(10, '2022-12-01', 'AMZN', 96.989998, 97.230003, 81.690002, 84, 84, 1549122100)\n",
      "(11, '2023-01-01', 'AMZN', 85.459999, 98.370003, 81.43, 98.120003, 98.120003, 703558300)\n",
      "(12, '2023-01-13', 'AMZN', 94.18, 98.370003, 94.150002, 98.120003, 98.120003, 85282448)\n"
     ]
    }
   ],
   "source": [
    "#Query:\n",
    "query_1 = ''' \n",
    "select * from stock_data where company_name = 'AMZN'\n",
    "'''\n",
    "for i in cursor.execute(query_1):\n",
    "    print(i)"
   ]
  },
  {
   "cell_type": "code",
   "execution_count": 9,
   "id": "9be6bd55",
   "metadata": {},
   "outputs": [
    {
     "name": "stdout",
     "output_type": "stream",
     "text": [
      "('2022-12-01', 'AMZN', 359.200012, 84)\n"
     ]
    }
   ],
   "source": [
    "query_2 = ''' \n",
    "select date, company_name, max(close), min(close) from stock_data\n",
    "'''\n",
    "for i in cursor.execute(query_2):\n",
    "    print(i)"
   ]
  },
  {
   "cell_type": "code",
   "execution_count": 10,
   "id": "d087a56d",
   "metadata": {},
   "outputs": [
    {
     "name": "stdout",
     "output_type": "stream",
     "text": [
      "('2022-12-01', 120.99915438461538, 117.0155006923077, 162.997498, 84)\n"
     ]
    }
   ],
   "source": [
    "amzn_data_maximum = ''' \n",
    "select date, avg(open), avg(close), max(close), min(close) from stock_data where company_name = 'AMZN'\n",
    "'''\n",
    "for i in cursor.execute(amzn_data_maximum):\n",
    "    print(i)\n",
    "\n",
    "\n"
   ]
  },
  {
   "cell_type": "code",
   "execution_count": null,
   "id": "15aa279a",
   "metadata": {},
   "outputs": [],
   "source": [
    "#using python to reverse the process as in opening a database file and saving it as csv\n",
    "\n",
    "sql_query = pd.read_sql_query(amzn_data_maximum, connection)\n",
    "data_file_python = pd.DataFrame(sql_query)\n",
    "print(data_file_python)\n",
    "\n",
    "connection.close()"
   ]
  },
  {
   "cell_type": "code",
   "execution_count": 28,
   "id": "a51893aa",
   "metadata": {},
   "outputs": [],
   "source": [
    "#saving the python file for later\n",
    "\n",
    "data_file_python.to_csv('Amazon_stock_info.csv')"
   ]
  }
 ],
 "metadata": {
  "kernelspec": {
   "display_name": "Python 3.8.8",
   "language": "python",
   "name": "python3"
  },
  "language_info": {
   "codemirror_mode": {
    "name": "ipython",
    "version": 3
   },
   "file_extension": ".py",
   "mimetype": "text/x-python",
   "name": "python",
   "nbconvert_exporter": "python",
   "pygments_lexer": "ipython3",
   "version": "3.8.8 (default, Apr 13 2021, 15:08:03) [MSC v.1916 64 bit (AMD64)]"
  },
  "vscode": {
   "interpreter": {
    "hash": "4457bb44cb86e5a7dad923d2a3d72e5ef4a738aac9356080cd70fa10d2e705d0"
   }
  }
 },
 "nbformat": 4,
 "nbformat_minor": 5
}
